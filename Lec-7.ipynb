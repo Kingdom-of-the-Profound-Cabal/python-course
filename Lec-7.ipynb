{
 "cells": [
  {
   "cell_type": "markdown",
   "metadata": {},
   "source": [
    "# Third-Party Tools"
   ]
  },
  {
   "cell_type": "markdown",
   "metadata": {},
   "source": [
    "## Virtual environment\n",
    "\n",
    "A virtual environment is a way to have multiple, parallel instances of the Python interpreter, \n",
    "each with different package sets and different configurations"
   ]
  },
  {
   "cell_type": "markdown",
   "metadata": {},
   "source": [
    "##### Create new nenv\n",
    "`python -m venv venv_name`\n"
   ]
  },
  {
   "cell_type": "markdown",
   "metadata": {},
   "source": [
    "##### activate venv in linux/mac:\n",
    "`source venv_name/bin/activate`\n",
    "\n",
    "##### activate venv in Windows:\n",
    "`venv_name\\Scripts\\activate.bat`"
   ]
  },
  {
   "cell_type": "code",
   "execution_count": 9,
   "metadata": {},
   "outputs": [],
   "source": [
    "! python -m venv venv\n"
   ]
  },
  {
   "cell_type": "markdown",
   "metadata": {},
   "source": [
    "## pip\n",
    "\n",
    "package installer for Python. You can use it to install packages from the Python Package Index and other indexes"
   ]
  },
  {
   "cell_type": "markdown",
   "metadata": {},
   "source": [
    "`pip install library`\n",
    "\n",
    "or\n",
    "\n",
    "`python -m pip install library`\n"
   ]
  },
  {
   "cell_type": "code",
   "execution_count": 1,
   "metadata": {},
   "outputs": [
    {
     "name": "stdout",
     "output_type": "stream",
     "text": [
      "Collecting pytz\n",
      "  Using cached pytz-2022.2.1-py2.py3-none-any.whl (500 kB)\n",
      "Installing collected packages: pytz\n",
      "Successfully installed pytz-2022.2.1\n"
     ]
    }
   ],
   "source": [
    "! pip install pytz\n"
   ]
  },
  {
   "cell_type": "code",
   "execution_count": 7,
   "metadata": {},
   "outputs": [
    {
     "name": "stdout",
     "output_type": "stream",
     "text": [
      "08:44\n",
      "11:44\n"
     ]
    }
   ],
   "source": [
    "# python tume zone\n",
    "import pytz\n",
    "from datetime import datetime\n",
    "\n",
    "# set time zone to UTC\n",
    "tz = pytz.timezone(\"UTC\")\n",
    "\n",
    "# Current time in UTC\n",
    "now_utc = datetime.now(tz)\n",
    "print(now_utc.strftime(\"%H:%M\"))\n",
    "\n",
    "tz = pytz.timezone(\"Asia/Baghdad\")\n",
    "now_utc = datetime.now(tz)\n",
    "print(now_utc.strftime(\"%H:%M\"))\n"
   ]
  },
  {
   "cell_type": "markdown",
   "metadata": {},
   "source": [
    "# requirements.txt\n",
    "\n",
    "a text file lis all the 3rd party libraries with its version installed in the venv"
   ]
  },
  {
   "cell_type": "markdown",
   "metadata": {},
   "source": [
    "`pip freeze > requirements.txt`"
   ]
  },
  {
   "cell_type": "code",
   "execution_count": 2,
   "metadata": {},
   "outputs": [],
   "source": [
    "! pip freeze > requirements.txt\n"
   ]
  },
  {
   "cell_type": "markdown",
   "metadata": {},
   "source": [
    "install from requirements.txt\n",
    "\n",
    "`pip install -r requirements.txt`"
   ]
  },
  {
   "cell_type": "code",
   "execution_count": 3,
   "metadata": {},
   "outputs": [
    {
     "name": "stdout",
     "output_type": "stream",
     "text": [
      "Requirement already satisfied: asttokens==2.0.8 in ./venv/lib/python3.8/site-packages (from -r requirements.txt (line 1)) (2.0.8)\n",
      "Requirement already satisfied: backcall==0.2.0 in ./venv/lib/python3.8/site-packages (from -r requirements.txt (line 2)) (0.2.0)\n",
      "Requirement already satisfied: debugpy==1.6.3 in ./venv/lib/python3.8/site-packages (from -r requirements.txt (line 3)) (1.6.3)\n",
      "Requirement already satisfied: decorator==5.1.1 in ./venv/lib/python3.8/site-packages (from -r requirements.txt (line 4)) (5.1.1)\n",
      "Requirement already satisfied: entrypoints==0.4 in ./venv/lib/python3.8/site-packages (from -r requirements.txt (line 5)) (0.4)\n",
      "Requirement already satisfied: executing==1.0.0 in ./venv/lib/python3.8/site-packages (from -r requirements.txt (line 6)) (1.0.0)\n",
      "Requirement already satisfied: ipykernel==6.15.3 in ./venv/lib/python3.8/site-packages (from -r requirements.txt (line 7)) (6.15.3)\n",
      "Requirement already satisfied: ipython==8.5.0 in ./venv/lib/python3.8/site-packages (from -r requirements.txt (line 8)) (8.5.0)\n",
      "Requirement already satisfied: jedi==0.18.1 in ./venv/lib/python3.8/site-packages (from -r requirements.txt (line 9)) (0.18.1)\n",
      "Requirement already satisfied: jupyter-client==7.3.5 in ./venv/lib/python3.8/site-packages (from -r requirements.txt (line 10)) (7.3.5)\n",
      "Requirement already satisfied: jupyter-core==4.11.1 in ./venv/lib/python3.8/site-packages (from -r requirements.txt (line 11)) (4.11.1)\n",
      "Requirement already satisfied: matplotlib-inline==0.1.6 in ./venv/lib/python3.8/site-packages (from -r requirements.txt (line 12)) (0.1.6)\n",
      "Requirement already satisfied: nest-asyncio==1.5.5 in ./venv/lib/python3.8/site-packages (from -r requirements.txt (line 13)) (1.5.5)\n",
      "Requirement already satisfied: packaging==21.3 in ./venv/lib/python3.8/site-packages (from -r requirements.txt (line 14)) (21.3)\n",
      "Requirement already satisfied: parso==0.8.3 in ./venv/lib/python3.8/site-packages (from -r requirements.txt (line 15)) (0.8.3)\n",
      "Requirement already satisfied: pexpect==4.8.0 in ./venv/lib/python3.8/site-packages (from -r requirements.txt (line 16)) (4.8.0)\n",
      "Requirement already satisfied: pickleshare==0.7.5 in ./venv/lib/python3.8/site-packages (from -r requirements.txt (line 17)) (0.7.5)\n",
      "Requirement already satisfied: prompt-toolkit==3.0.31 in ./venv/lib/python3.8/site-packages (from -r requirements.txt (line 18)) (3.0.31)\n",
      "Requirement already satisfied: psutil==5.9.2 in ./venv/lib/python3.8/site-packages (from -r requirements.txt (line 19)) (5.9.2)\n",
      "Requirement already satisfied: ptyprocess==0.7.0 in ./venv/lib/python3.8/site-packages (from -r requirements.txt (line 20)) (0.7.0)\n",
      "Requirement already satisfied: pure-eval==0.2.2 in ./venv/lib/python3.8/site-packages (from -r requirements.txt (line 21)) (0.2.2)\n",
      "Requirement already satisfied: Pygments==2.13.0 in ./venv/lib/python3.8/site-packages (from -r requirements.txt (line 22)) (2.13.0)\n",
      "Requirement already satisfied: pyparsing==3.0.9 in ./venv/lib/python3.8/site-packages (from -r requirements.txt (line 23)) (3.0.9)\n",
      "Requirement already satisfied: python-dateutil==2.8.2 in ./venv/lib/python3.8/site-packages (from -r requirements.txt (line 24)) (2.8.2)\n",
      "Requirement already satisfied: pytz==2022.2.1 in ./venv/lib/python3.8/site-packages (from -r requirements.txt (line 25)) (2022.2.1)\n",
      "Requirement already satisfied: pyzmq==24.0.1 in ./venv/lib/python3.8/site-packages (from -r requirements.txt (line 26)) (24.0.1)\n",
      "Requirement already satisfied: six==1.16.0 in ./venv/lib/python3.8/site-packages (from -r requirements.txt (line 27)) (1.16.0)\n",
      "Requirement already satisfied: stack-data==0.5.0 in ./venv/lib/python3.8/site-packages (from -r requirements.txt (line 28)) (0.5.0)\n",
      "Requirement already satisfied: tornado==6.2 in ./venv/lib/python3.8/site-packages (from -r requirements.txt (line 29)) (6.2)\n",
      "Requirement already satisfied: traitlets==5.4.0 in ./venv/lib/python3.8/site-packages (from -r requirements.txt (line 30)) (5.4.0)\n",
      "Requirement already satisfied: wcwidth==0.2.5 in ./venv/lib/python3.8/site-packages (from -r requirements.txt (line 31)) (0.2.5)\n"
     ]
    }
   ],
   "source": [
    "! pip install -r requirements.txt\n"
   ]
  }
 ],
 "metadata": {
  "kernelspec": {
   "display_name": "venv",
   "language": "python",
   "name": "python3"
  },
  "language_info": {
   "codemirror_mode": {
    "name": "ipython",
    "version": 3
   },
   "file_extension": ".py",
   "mimetype": "text/x-python",
   "name": "python",
   "nbconvert_exporter": "python",
   "pygments_lexer": "ipython3",
   "version": "3.8.10 (default, Nov 14 2022, 12:59:47) \n[GCC 9.4.0]"
  },
  "orig_nbformat": 4,
  "vscode": {
   "interpreter": {
    "hash": "e9daf23a73e4fa3585b18aabbf056e985e71943dd801d54be11fe89f6325fc1e"
   }
  }
 },
 "nbformat": 4,
 "nbformat_minor": 2
}
