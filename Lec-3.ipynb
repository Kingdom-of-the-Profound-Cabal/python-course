{
 "cells": [
  {
   "cell_type": "markdown",
   "metadata": {},
   "source": [
    "## OOP"
   ]
  },
  {
   "cell_type": "markdown",
   "metadata": {},
   "source": [
    "## Class"
   ]
  },
  {
   "cell_type": "code",
   "execution_count": null,
   "metadata": {},
   "outputs": [
    {
     "name": "stdout",
     "output_type": "stream",
     "text": [
      "Hello my name is John\n"
     ]
    }
   ],
   "source": [
    "# classes : are used to create objects\n",
    "# class : keyword used to define a class\n",
    "# class name : name of the class\n",
    "class Person:\n",
    "    # constructor : is used to initialize the object\n",
    "    # self : is a reference to the current instance of the class\n",
    "    def __init__(self, name, age):\n",
    "        self.name = name\n",
    "        self.age = age\n",
    "    # method : is a function defined in a class\n",
    "    # self : is a reference to the current instance of the class\n",
    "    def myfunc(self):\n",
    "        print(\"Hello my name is \" + self.name)\n",
    "# create an object of the class\n",
    "p = Person(\"John\", 36)\n",
    "# call the method\n",
    "p.myfunc()\n"
   ]
  },
  {
   "cell_type": "markdown",
   "metadata": {},
   "source": [
    "## Inheritance"
   ]
  },
  {
   "cell_type": "code",
   "execution_count": null,
   "metadata": {},
   "outputs": [
    {
     "name": "stdout",
     "output_type": "stream",
     "text": [
      "Hello my name is Jane\n",
      "Hello my name is Jane and I have 75 marks\n"
     ]
    }
   ],
   "source": [
    "# inheritance : is the process of creating a class which inherits the properties and methods of another class \n",
    "# super : is a reference to the parent class\n",
    "class Student(Person):\n",
    "    def __init__(self, name, age, marks):\n",
    "        super().__init__(name, age)\n",
    "        self.marks = marks\n",
    "    # override the method\n",
    "    def stfun(self):\n",
    "        print(\"Hello my name is \" + self.name + \" and I have \" + str(self.marks) + \" marks\")\n",
    "s = Student(\"Jane\", 20, 75)\n",
    "s.myfunc()\n",
    "s.stfun()\n",
    "\n"
   ]
  },
  {
   "cell_type": "markdown",
   "metadata": {},
   "source": [
    "## polymorphism"
   ]
  },
  {
   "cell_type": "code",
   "execution_count": null,
   "metadata": {},
   "outputs": [
    {
     "name": "stdout",
     "output_type": "stream",
     "text": [
      "Hello my name is Jane and I have 75 marks\n",
      "46\n",
      "260\n"
     ]
    }
   ],
   "source": [
    "# polymorphism : method with same name in different classes with different behaviour\n",
    "\n",
    "# method overriding : method with same name but different task\n",
    "class Student(Person):\n",
    "    def __init__(self, name, age, marks):\n",
    "        super().__init__(name, age)\n",
    "        self.marks = marks\n",
    "    # override the method\n",
    "    def myfunc(self):\n",
    "        print(\"Hello my name is \" + self.name + \" and I have \" + str(self.marks) + \" marks\")\n",
    "s = Student(\"Jane\", 20, 75)\n",
    "s.myfunc()\n",
    "\n",
    "class Person:\n",
    "    def __init__(self, name, age):\n",
    "        self.name = name\n",
    "        self.age = age\n",
    "    def add(self, age):\n",
    "        print(age + self.age)\n",
    "\n",
    "p = Person(\"John\", 36)\n",
    "p.add(10)\n",
    "\n",
    "# method overloading : method with same name and task but different arguments\n",
    "class Student(Person):\n",
    "    def __init__(self, name, age, marks):\n",
    "        super().__init__(name, age)\n",
    "        self.marks = marks\n",
    "    # overload the method\n",
    "    def add(self, marks):\n",
    "        print(sum(marks) + sum(self.marks))\n",
    "s = Student(\"Jane\", 20, [50, 45, 35])\n",
    "s.add([50, 45, 35])\n"
   ]
  },
  {
   "cell_type": "markdown",
   "metadata": {},
   "source": [
    "## Abstraction"
   ]
  },
  {
   "cell_type": "code",
   "execution_count": null,
   "metadata": {},
   "outputs": [
    {
     "name": "stdout",
     "output_type": "stream",
     "text": [
      "I am an animal\n",
      "I can hiss\n"
     ]
    }
   ],
   "source": [
    "# Abstract classes : hiding unnecessary information from the user\n",
    "from abc import ABC, abstractmethod\n",
    "\n",
    "class Animal(ABC):\n",
    "    def method(self):\n",
    "        print(\"I am an animal\")\n",
    "\n",
    "    @abstractmethod\n",
    "    def sound(self):\n",
    "\t    print(\"This function is for defining the sound by any animal\")\n",
    "\n",
    "class Snake(Animal):\n",
    "    def sound(self):\n",
    "        print(\"I can hiss\")\n",
    "\n",
    "# will throw an error\n",
    "# a = Animal()\n",
    "\n",
    "c = Snake()\n",
    "c.method()\n",
    "c.sound()\n"
   ]
  },
  {
   "cell_type": "markdown",
   "metadata": {},
   "source": [
    "## Encapsulation"
   ]
  },
  {
   "cell_type": "code",
   "execution_count": null,
   "metadata": {},
   "outputs": [
    {
     "name": "stdout",
     "output_type": "stream",
     "text": [
      "100\n",
      "120\n",
      "123\n",
      "223\n"
     ]
    }
   ],
   "source": [
    "# encapsulation : hiding variables from class\n",
    "# python does not support private variables but encapsulation can be done\n",
    "\n",
    "class Robot(object):\n",
    "    def __init__(self):\n",
    "        self.a = 100\n",
    "        # protected variable\n",
    "        self._b = 120\n",
    "        # private variable\n",
    "        self.__c = 123\n",
    "    # getter method\n",
    "    def getC(self):\n",
    "        print(self.__c)\n",
    "    # setter method\n",
    "    def setC(self, c):\n",
    "        self.__c = c\n",
    "\n",
    "obj = Robot()\n",
    "print(obj.a)\n",
    "print(obj._b)\n",
    "# throws an error\n",
    "# print(obj.__c)\n",
    "# instead of throwing an error, we can use getter and setter methods\n",
    "obj.getC()\n",
    "obj.setC(223)\n",
    "obj.getC()\n"
   ]
  },
  {
   "cell_type": "markdown",
   "metadata": {},
   "source": [
    "## dataclasses"
   ]
  },
  {
   "cell_type": "code",
   "execution_count": null,
   "metadata": {},
   "outputs": [
    {
     "name": "stdout",
     "output_type": "stream",
     "text": [
      "Hello my name is John\n",
      "Hello my name is Jane and I have 75 marks\n"
     ]
    }
   ],
   "source": [
    "import dataclasses\n",
    "# dataclasses : used to create classes with dataclass decorator \n",
    "\n",
    "@dataclasses.dataclass\n",
    "class Person:\n",
    "    name: str\n",
    "    age: int\n",
    "    def myfunc(self):\n",
    "        print(\"Hello my name is \" + self.name)\n",
    "\n",
    "p = Person(\"John\", 36)\n",
    "p.myfunc()\n",
    "\n",
    "@dataclasses.dataclass\n",
    "class Student(Person):\n",
    "    marks: int\n",
    "    def myfunc(self):\n",
    "        print(\"Hello my name is \" + self.name + \" and I have \" + str(self.marks) + \" marks\")\n",
    "\n",
    "s = Student(\"Jane\", 20, 75)\n",
    "s.myfunc()\n"
   ]
  },
  {
   "cell_type": "code",
   "execution_count": null,
   "metadata": {},
   "outputs": [
    {
     "name": "stdout",
     "output_type": "stream",
     "text": [
      "(1, 2, 3, 4, 5)\n",
      "1\n",
      "2\n",
      "3\n",
      "4\n",
      "5\n",
      "\n",
      "\n",
      "{'a': 1, 'b': 2, 'c': 3}\n",
      "a 1\n",
      "b 2\n",
      "c 3\n"
     ]
    }
   ],
   "source": [
    "# argument unpacking : used to unpack the arguments of a function\n",
    "# *args : used to unpack the arguments of a function\n",
    "\n",
    "def myfunc(*args):\n",
    "    print(args)\n",
    "    for i in args:\n",
    "        print(i)\n",
    "myfunc(1, 2, 3, 4, 5)\n",
    "\n",
    "print(\"\\n\")\n",
    "\n",
    "# **kwargs : used to unpack the arguments of a function\n",
    "def myfunc(**kwargs):\n",
    "    print(kwargs)\n",
    "    for i, j in kwargs.items():\n",
    "        print(i, j)\n",
    "\n",
    "myfunc(a=1, b=2, c=3)\n"
   ]
  }
 ],
 "metadata": {
  "kernelspec": {
   "display_name": "Python 3.8.10 64-bit",
   "language": "python",
   "name": "python3"
  },
  "language_info": {
   "name": "python",
   "version": "3.8.10"
  },
  "orig_nbformat": 4,
  "vscode": {
   "interpreter": {
    "hash": "916dbcbb3f70747c44a77c7bcd40155683ae19c65e1c03b4aa3499c5328201f1"
   }
  }
 },
 "nbformat": 4,
 "nbformat_minor": 2
}
