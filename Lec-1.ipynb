{
 "cells": [
  {
   "cell_type": "markdown",
   "metadata": {},
   "source": [
    "# Variavles"
   ]
  },
  {
   "cell_type": "code",
   "execution_count": null,
   "metadata": {},
   "outputs": [],
   "source": [
    "# int : it is a numerical data type with no decimal points\n",
    "x = 10\n",
    "\n",
    "# float : it is a numerical data type with decimal points\n",
    "x = 10.5\n",
    "\n",
    "# string : it is a sequence of characters\n",
    "x = \"Hello World\"\n",
    "\n",
    "# boolean : it is a true or false value\n",
    "x = True\n",
    "x = False\n",
    "\n",
    "# list : it is a collection of items in a particular order\n",
    "x = [1, 2, 3]\n",
    "\n",
    "# tuple : it is a collection of items in a particular order\n",
    "x = (1, 2, 3)\n",
    "\n",
    "# set : it is a collection of unique items\n",
    "x = {1, 2, 3}\n",
    "\n",
    "# dictionary : it is a collection of key-value pairs\n",
    "x = {'name': 'John', 'age': 30}\n",
    "\n",
    "# None : it is a special value that represents nothing\n",
    "x = None\n"
   ]
  },
  {
   "cell_type": "markdown",
   "metadata": {},
   "source": [
    "## Dynamic Typing"
   ]
  },
  {
   "cell_type": "code",
   "execution_count": 1,
   "metadata": {},
   "outputs": [
    {
     "name": "stdout",
     "output_type": "stream",
     "text": [
      "<class 'int'>\n",
      "<class 'str'>\n"
     ]
    }
   ],
   "source": [
    "# a is an object of type int\n",
    "a = 10\n",
    "\n",
    "print(type(a))\n",
    "\n",
    "# b is an object of type string\n",
    "a = \"Hello World\"\n",
    "\n",
    "print(type(a))"
   ]
  },
  {
   "cell_type": "markdown",
   "metadata": {},
   "source": [
    "# commints"
   ]
  },
  {
   "cell_type": "code",
   "execution_count": null,
   "metadata": {},
   "outputs": [],
   "source": [
    "# single line comment\n",
    "\"\"\" multi \n",
    "    line \n",
    "    comment \n",
    "\"\"\"\n"
   ]
  },
  {
   "cell_type": "markdown",
   "metadata": {},
   "source": [
    "# Operations"
   ]
  },
  {
   "cell_type": "markdown",
   "metadata": {},
   "source": [
    "## Arthmatic"
   ]
  },
  {
   "cell_type": "code",
   "execution_count": 3,
   "metadata": {},
   "outputs": [
    {
     "name": "stdout",
     "output_type": "stream",
     "text": [
      "15\n",
      "5\n",
      "50\n",
      "2.0\n",
      "2\n",
      "5\n",
      "100000\n"
     ]
    }
   ],
   "source": [
    "# Arthmatic operations\n",
    "x = 10\n",
    "y = 5\n",
    "# + : addition\n",
    "print(x + y)\n",
    "# - : subtraction\n",
    "print(x - y)\n",
    "# * : multiplication\n",
    "print(x * y)\n",
    "# / : division\n",
    "print(x / y)\n",
    "# // : floor division (discard the fractional part)\n",
    "print(x // y)\n",
    "# % : modulus (remainder of division)\n",
    "print(x % y)\n",
    "print(y % x)\n",
    "# ** : exponent\n",
    "print(x ** y)\n"
   ]
  },
  {
   "cell_type": "markdown",
   "metadata": {},
   "source": [
    "## Comparison"
   ]
  },
  {
   "cell_type": "code",
   "execution_count": 17,
   "metadata": {},
   "outputs": [
    {
     "name": "stdout",
     "output_type": "stream",
     "text": [
      "False\n",
      "True\n",
      "True\n",
      "False\n",
      "True\n",
      "False\n"
     ]
    }
   ],
   "source": [
    "# Comparison Operators\n",
    "\n",
    "# Equality\n",
    "print(x == y)\n",
    "# Not Equality\n",
    "print(x != y)\n",
    "# Greater than\n",
    "print(x > y)\n",
    "# Less than\n",
    "print(x < y)\n",
    "# Greater than Or Equal to\n",
    "print(x >= y)\n",
    "# Less than Or Equal to\n",
    "print(x <= y)\n",
    "\n"
   ]
  },
  {
   "cell_type": "markdown",
   "metadata": {},
   "source": [
    "## Logical"
   ]
  },
  {
   "cell_type": "code",
   "execution_count": 18,
   "metadata": {},
   "outputs": [
    {
     "name": "stdout",
     "output_type": "stream",
     "text": [
      "True\n",
      "True\n",
      "False\n",
      "None\n",
      "False\n",
      "True\n",
      "False\n",
      "True\n"
     ]
    }
   ],
   "source": [
    "# Logical Operators\n",
    "\n",
    "# and : returns True if both the operands are true\n",
    "print(True and True)\n",
    "# Or : returns True if either of the operands is true\n",
    "print(True or False)\n",
    "# Not : returns True if the operand is false\n",
    "print(not True)\n",
    "# None : returns True if the operand is None\n",
    "print(None)\n",
    "# Identity Operators\n",
    "# is : returns True if both the operands are same object\n",
    "print(x is y)\n",
    "# is not : returns True if both the operands are not same object\n",
    "print(x is not y)\n",
    "# Membership Operators\n",
    "# in : returns True if the first operand is a member of the second operand\n",
    "print(x in [1, 2, 3])\n",
    "# not in : returns True if the first operand is not a member of the second operand\n",
    "print(x not in [1, 2, 3])\n"
   ]
  },
  {
   "cell_type": "markdown",
   "metadata": {},
   "source": [
    "# Conditions"
   ]
  },
  {
   "cell_type": "markdown",
   "metadata": {},
   "source": [
    "## If Else"
   ]
  },
  {
   "cell_type": "code",
   "execution_count": 19,
   "metadata": {},
   "outputs": [
    {
     "name": "stdout",
     "output_type": "stream",
     "text": [
      "Greater\n"
     ]
    }
   ],
   "source": [
    "# if-else\n",
    "if x > y:\n",
    "    print(\"Greater\")\n",
    "elif x == y:\n",
    "    print(\"Equal\")\n",
    "else:\n",
    "    print(\"Smaller\")\n"
   ]
  },
  {
   "cell_type": "markdown",
   "metadata": {},
   "source": [
    "## Match"
   ]
  },
  {
   "cell_type": "code",
   "execution_count": 8,
   "metadata": {},
   "outputs": [
    {
     "name": "stdout",
     "output_type": "stream",
     "text": [
      "3.10.4 (main, Mar 31 2022, 08:41:55) [GCC 7.5.0]\n"
     ]
    }
   ],
   "source": [
    "# just to make sure im running python 3.10\n",
    "import sys;print(sys.version)\n"
   ]
  },
  {
   "cell_type": "code",
   "execution_count": 7,
   "metadata": {},
   "outputs": [
    {
     "name": "stdout",
     "output_type": "stream",
     "text": [
      "Origin\n",
      "Y = 1\n",
      "X = 1\n"
     ]
    }
   ],
   "source": [
    "# match statement takes an expression and compares its value to successive patterns given as one or more case blocks\n",
    "def match_example(x, y):\n",
    "    point = (x, y)\n",
    "    match point:\n",
    "        case (0, 0):\n",
    "            print(\"Origin\")\n",
    "        case (0, y):\n",
    "            print(f\"Y = {y}\")\n",
    "        case (x, 0):\n",
    "            print(f\"X = {x}\")\n",
    "        case (x, y):\n",
    "            print(f\"X = {x}, Y = {y}\")\n",
    "        case _:\n",
    "            raise ValueError(\"Not a point\")\n",
    "\n",
    "match_example(0, 0)\n",
    "match_example(0, 1)\n",
    "match_example(1, 0)\n"
   ]
  }
 ],
 "metadata": {
  "kernelspec": {
   "display_name": "Python 3.10.4 ('py10')",
   "language": "python",
   "name": "python3"
  },
  "language_info": {
   "codemirror_mode": {
    "name": "ipython",
    "version": 3
   },
   "file_extension": ".py",
   "mimetype": "text/x-python",
   "name": "python",
   "nbconvert_exporter": "python",
   "pygments_lexer": "ipython3",
   "version": "3.10.4"
  },
  "orig_nbformat": 4,
  "vscode": {
   "interpreter": {
    "hash": "ee62ebe73aa2f8cfab5b405c687092ba5bed89943b931a12a7cf0f89675aa823"
   }
  }
 },
 "nbformat": 4,
 "nbformat_minor": 2
}
