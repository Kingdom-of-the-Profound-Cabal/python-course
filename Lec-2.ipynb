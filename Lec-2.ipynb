{
 "cells": [
  {
   "cell_type": "markdown",
   "metadata": {},
   "source": [
    "# Functions"
   ]
  },
  {
   "cell_type": "code",
   "execution_count": null,
   "metadata": {},
   "outputs": [
    {
     "name": "stdout",
     "output_type": "stream",
     "text": [
      "15\n"
     ]
    }
   ],
   "source": [
    "# functions are blocks of code which are used to perform a specific task\n",
    "# def : keyword used to define a function\n",
    "# parameter : the name of input arguments that a function takes\n",
    "def add(x, y):\n",
    "    # return : keyword used to return the value from a function\n",
    "    return x + y\n",
    "# arguments : the name of input arguments that a function given\n",
    "added = add(10, 5)\n",
    "print(added)\n"
   ]
  },
  {
   "cell_type": "code",
   "execution_count": null,
   "metadata": {},
   "outputs": [
    {
     "name": "stdout",
     "output_type": "stream",
     "text": [
      "1\n",
      "2\n",
      "3\n"
     ]
    }
   ],
   "source": [
    "# iterable : is a collection of items which can be iterated over\n",
    "# define a list\n",
    "my_list = [1, 2, 3]\n",
    "\n",
    "# get an iterator using iter()\n",
    "my_iter = iter(my_list)\n",
    "\n",
    "# __next__() method returns the next item in the iterator\n",
    "print(my_iter.__next__())\n",
    "print(my_iter.__next__())\n",
    "print(my_iter.__next__())\n"
   ]
  },
  {
   "cell_type": "code",
   "execution_count": null,
   "metadata": {},
   "outputs": [
    {
     "name": "stdout",
     "output_type": "stream",
     "text": [
      "1\n",
      "2\n",
      "3\n"
     ]
    }
   ],
   "source": [
    "# generators : are functions which generate a sequence of values\n",
    "# yield : keyword used to define a generator\n",
    "def gen():\n",
    "    yield 1\n",
    "    yield 2\n",
    "    yield 3\n",
    "\n",
    "generator = gen()\n",
    "\n",
    "print(generator.__next__())\n",
    "print(generator.__next__())\n",
    "print(generator.__next__())\n"
   ]
  },
  {
   "cell_type": "markdown",
   "metadata": {},
   "source": [
    "## Decoratore"
   ]
  },
  {
   "cell_type": "code",
   "execution_count": null,
   "metadata": {},
   "outputs": [
    {
     "name": "stdout",
     "output_type": "stream",
     "text": [
      "\n",
      " - Without decorator\n",
      "I am ordinary\n",
      "\n",
      " - With decorator\n",
      "I got decorated\n",
      "I am ordinary\n"
     ]
    }
   ],
   "source": [
    "# decorators : are functions which modify the behaviour of other functions\n",
    "# @ : used to decorate a function\n",
    "def ordinary():\n",
    "    print(\"I am ordinary\")\n",
    "\n",
    "print(\"\\n - Without decorator\")\n",
    "ordinary()\n",
    "\n",
    "def make_pretty(func):\n",
    "    def inner():\n",
    "        print(\"I got decorated\")\n",
    "        func()\n",
    "    return inner\n",
    "\n",
    "@make_pretty\n",
    "def pretty_ordinary():\n",
    "    print(\"I am ordinary\")\n",
    "\n",
    "print(\"\\n - With decorator\")\n",
    "pretty_ordinary()\n"
   ]
  },
  {
   "cell_type": "markdown",
   "metadata": {},
   "source": [
    "## Built-in Functuins"
   ]
  },
  {
   "cell_type": "code",
   "execution_count": null,
   "metadata": {},
   "outputs": [
    {
     "name": "stdout",
     "output_type": "stream",
     "text": [
      "Hello World\n",
      "x: Hello World\n",
      "HELLO WORLD\n",
      "hello world\n",
      "Hello world\n",
      "Hello World\n",
      "hELLO wORLD\n",
      "2\n",
      "4\n",
      "HellX WXrld\n",
      "|Hello World|\n",
      "|Hello World  |\n",
      "|  Hello World|\n"
     ]
    }
   ],
   "source": [
    "# print is built-in function which prints the value on the screen\n",
    "print(\"Hello World\")\n",
    "\n",
    "# formating strings :\n",
    "x = \"Hello World\"\n",
    "print(f\"x: {x}\")\n",
    "# upper() : converts the string to upper case\n",
    "print(x.upper())\n",
    "# lower() : converts the string to lower case\n",
    "print(x.lower())\n",
    "# capitalize() : converts the first character of the string to upper case\n",
    "print(x.capitalize())\n",
    "# title() : converts the first character of each word to upper case\n",
    "print(x.title())\n",
    "# swapcase() : converts the string to upper case if it is lower case and vice versa\n",
    "print(x.swapcase())\n",
    "# count() : returns the number of times the substring occurs in the string\n",
    "print(x.count('o'))\n",
    "# find() : returns the index of the first occurrence of the substring in the string\n",
    "print(x.find('o'))\n",
    "# replace() : replaces the first occurrence of the substring with the new substring\n",
    "print(x.replace('o', 'X'))\n",
    "\n",
    "# strip : removes whitespace from both sides of the string\n",
    "x = \"  Hello World  \"\n",
    "print(f\"|{x.strip()}|\")\n",
    "# lstrip : removes whitespace from the left side of the string\n",
    "print(f\"|{x.lstrip()}|\")\n",
    "# rstrip : removes whitespace from the right side of the string\n",
    "print(f\"|{x.rstrip()}|\")\n",
    "\n"
   ]
  },
  {
   "cell_type": "code",
   "execution_count": null,
   "metadata": {},
   "outputs": [
    {
     "name": "stdout",
     "output_type": "stream",
     "text": [
      "Hello Hassan Ammar\n",
      "You are 19 years old\n",
      "You are 150.5 meters tall\n",
      "12\n",
      "7\n",
      "1\n",
      "18\n",
      "150\n",
      "150.5\n",
      "<class 'str'>\n",
      "['__add__', '__class__', '__contains__', '__delattr__', '__dir__', '__doc__', '__eq__', '__format__', '__ge__', '__getattribute__', '__getitem__', '__getnewargs__', '__gt__', '__hash__', '__init__', '__init_subclass__', '__iter__', '__le__', '__len__', '__lt__', '__mod__', '__mul__', '__ne__', '__new__', '__reduce__', '__reduce_ex__', '__repr__', '__rmod__', '__rmul__', '__setattr__', '__sizeof__', '__str__', '__subclasshook__', 'capitalize', 'casefold', 'center', 'count', 'encode', 'endswith', 'expandtabs', 'find', 'format', 'format_map', 'index', 'isalnum', 'isalpha', 'isascii', 'isdecimal', 'isdigit', 'isidentifier', 'islower', 'isnumeric', 'isprintable', 'isspace', 'istitle', 'isupper', 'join', 'ljust', 'lower', 'lstrip', 'maketrans', 'partition', 'replace', 'rfind', 'rindex', 'rjust', 'rpartition', 'rsplit', 'rstrip', 'split', 'splitlines', 'startswith', 'strip', 'swapcase', 'title', 'translate', 'upper', 'zfill']\n",
      "[(1, 4), (2, 5), (3, 6)]\n",
      "[3, 2, 1]\n",
      "[1, 2, 3]\n"
     ]
    }
   ],
   "source": [
    "# input takes input from user\n",
    "n = input(\"Enter your name: \")\n",
    "print(f\"Hello {n}\")\n",
    "# int convert variable type to int\n",
    "a = int(input(\"Enter your age: \"))\n",
    "print(f\"You are {a} years old\")\n",
    "# float convert variable type to float\n",
    "h = float(input(\"Enter your height: \"))\n",
    "print(f\"You are {h} meters tall\")\n",
    "# len returns length of variable\n",
    "print(len(n))\n",
    "# max returns maximum value of variable\n",
    "x = [1, 3, 2, 7, 5]\n",
    "print(max(x))\n",
    "# min returns minimum value of variable\n",
    "print(min(x))\n",
    "# sum returns sum of all the values of variable\n",
    "print(sum(x))\n",
    "# round returns rounded value of variable\n",
    "print(round(h))\n",
    "# abs returns absolute value of variable\n",
    "print(abs(h))\n",
    "# type returns type of variable\n",
    "print(type(n))\n",
    "# dir returns all the methods of variable\n",
    "print(dir(n))\n",
    "# zip returns a list of tuples\n",
    "x = [1, 2, 3]\n",
    "y = [4, 5, 6]\n",
    "zipped = zip(x, y)\n",
    "print(list(zipped))\n",
    "# reversed returns a list in reverse order\n",
    "print(list(reversed(x)))\n",
    "# sorted returns a list in sorted order\n",
    "print(sorted(x))\n"
   ]
  },
  {
   "cell_type": "markdown",
   "metadata": {},
   "source": [
    "# Loops"
   ]
  },
  {
   "cell_type": "markdown",
   "metadata": {},
   "source": [
    "## for loop"
   ]
  },
  {
   "cell_type": "code",
   "execution_count": null,
   "metadata": {},
   "outputs": [
    {
     "name": "stdout",
     "output_type": "stream",
     "text": [
      "0\n",
      "1\n",
      "2\n",
      "0 a\n",
      "1 b\n",
      "2 c\n"
     ]
    }
   ],
   "source": [
    "# for loop\n",
    "for i in range(3):\n",
    "    print(i)\n",
    "# enumerate returns a list of tuples\n",
    "for i, j in enumerate(['a', 'b', 'c']):\n",
    "    print(i, j)\n"
   ]
  },
  {
   "cell_type": "markdown",
   "metadata": {},
   "source": [
    "### comprehension"
   ]
  },
  {
   "cell_type": "code",
   "execution_count": null,
   "metadata": {},
   "outputs": [
    {
     "name": "stdout",
     "output_type": "stream",
     "text": [
      "[0, 1, 2]\n",
      "{'a': 0, 'b': 1, 'c': 2}\n",
      "{0, 1, 2}\n",
      "(0, 1, 2)\n",
      "<generator object <genexpr> at 0x7fa45418e270>\n",
      "0\n",
      "1\n",
      "2\n"
     ]
    }
   ],
   "source": [
    "# list comprehension : create a list with for loop\n",
    "x = [i for i in range(3)]\n",
    "print(x)\n",
    "# dictionary comprehension : create a dictionary with for loop\n",
    "# key-value pairs\n",
    "keys = ['a', 'b', 'c']\n",
    "x = {k: v for k, v in zip(keys, range(3))}\n",
    "print(x)\n",
    "# set comprehension : create a set with for loop\n",
    "x = {i for i in range(3)}\n",
    "print(x)\n",
    "# tuple comprehension : create a tuple with for loop\n",
    "x = tuple(i for i in range(3))\n",
    "print(x)\n",
    "# generator comprehension : create a generator with for loop\n",
    "generator = (i for i in range(3))\n",
    "print(generator)\n",
    "print(generator.__next__())\n",
    "print(generator.__next__())\n",
    "print(generator.__next__())\n",
    " "
   ]
  },
  {
   "cell_type": "markdown",
   "metadata": {},
   "source": [
    "## brerake and continue"
   ]
  },
  {
   "cell_type": "code",
   "execution_count": null,
   "metadata": {},
   "outputs": [
    {
     "name": "stdout",
     "output_type": "stream",
     "text": [
      "Break on 5\n",
      "0\n",
      "1\n",
      "2\n",
      "3\n",
      "4\n",
      "continue on 5\n",
      "0\n",
      "1\n",
      "2\n",
      "3\n",
      "4\n",
      "6\n",
      "7\n",
      "8\n",
      "9\n"
     ]
    }
   ],
   "source": [
    "# Break \n",
    "print(\"Break on 5\")\n",
    "for i in range(10):\n",
    "    if i == 5:\n",
    "        break\n",
    "    print(i)\n",
    "\n",
    "# Continue\n",
    "print(\"continue on 5\")\n",
    "for i in range(10):\n",
    "    if i == 5:\n",
    "        continue\n",
    "    print(i)\n"
   ]
  },
  {
   "cell_type": "markdown",
   "metadata": {},
   "source": [
    "## while loop"
   ]
  },
  {
   "cell_type": "code",
   "execution_count": 2,
   "metadata": {},
   "outputs": [
    {
     "name": "stdout",
     "output_type": "stream",
     "text": [
      "12 s \n",
      "Please enter a number\n",
      "12 34 stop \n",
      "Please enter a number\n",
      "\n",
      " [12, 12, 34]\n",
      "3\n",
      "58\n"
     ]
    }
   ],
   "source": [
    "# while loop\n",
    "count = \"\"; counts = []\n",
    "while count != \"stop\":\n",
    "    count = input(\"Enter your count: \")\n",
    "    print(count, end=\" \")\n",
    "    if not count.isdigit():\n",
    "        print(\"\\nPlease enter a number\")\n",
    "        continue\n",
    "    count = int(count)\n",
    "    counts.append(count)\n",
    "print(\"\\n\", counts)\n",
    "print(len(counts))\n",
    "print(sum(counts))\n"
   ]
  }
 ],
 "metadata": {
  "kernelspec": {
   "display_name": "Python 3.8.10 64-bit",
   "language": "python",
   "name": "python3"
  },
  "language_info": {
   "codemirror_mode": {
    "name": "ipython",
    "version": 3
   },
   "file_extension": ".py",
   "mimetype": "text/x-python",
   "name": "python",
   "nbconvert_exporter": "python",
   "pygments_lexer": "ipython3",
   "version": "3.8.10"
  },
  "orig_nbformat": 4,
  "vscode": {
   "interpreter": {
    "hash": "916dbcbb3f70747c44a77c7bcd40155683ae19c65e1c03b4aa3499c5328201f1"
   }
  }
 },
 "nbformat": 4,
 "nbformat_minor": 2
}
