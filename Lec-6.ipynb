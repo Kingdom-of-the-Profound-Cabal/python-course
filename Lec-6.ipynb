{
 "cells": [
  {
   "cell_type": "markdown",
   "metadata": {},
   "source": [
    "# Python Standard Library"
   ]
  },
  {
   "cell_type": "markdown",
   "metadata": {},
   "source": [
    "- JSON (JavaScript Object Notation)\n",
    "- syntax for storing and exchanging data like dictionary {key: value}\n",
    "- inspired by JavaScript object"
   ]
  },
  {
   "cell_type": "code",
   "execution_count": 15,
   "metadata": {},
   "outputs": [
    {
     "name": "stdout",
     "output_type": "stream",
     "text": [
      "{'name': 'John', 'age': 30, 'city': 'New York'}\n",
      "<class 'dict'>\n",
      "<class 'str'>\n",
      "{\n",
      "    \"name\": \"John\",\n",
      "    \"age\": 30,\n",
      "    \"city\": \"New York\"\n",
      "}\n"
     ]
    }
   ],
   "source": [
    "# import keyword read the code in the library (json in this case)\n",
    "import json\n",
    "\n",
    "# JSON example\n",
    "x =  '{ \"name\": \"John\", \"age\": 30, \"city\": \"New York\"}'\n",
    "\n",
    "# parse x into dictionary\n",
    "y = json.loads(x)\n",
    "\n",
    "# the result is a Python dictionary\n",
    "print(y)\n",
    "print(type(y))\n",
    "\n",
    "# convert back into JSON:\n",
    "# indent just to make it more readable\n",
    "y = json.dumps(y, indent=4)\n",
    "\n",
    "# the result is a JSON string:\n",
    "print(type(y))\n",
    "print(y)\n"
   ]
  },
  {
   "cell_type": "code",
   "execution_count": 17,
   "metadata": {},
   "outputs": [
    {
     "name": "stdout",
     "output_type": "stream",
     "text": [
      "{'A': 1, 'B': 2, 'list': [1, 2], 'str': 'Hello', 'json': {'a': 1, 'b': 2}, 'add': 'added'}\n",
      "<class 'dict'>\n"
     ]
    }
   ],
   "source": [
    "# load json from file 'example.json' \n",
    "with open('example.json') as f:\n",
    "  data = json.load(f)\n",
    "\n",
    "print(data)\n",
    "print(type(data))\n",
    "\n",
    "# add object to the dict\n",
    "data[\"add\"] = \"added\"\n",
    "\n",
    "# dump the new data into file 'example.json'\n",
    "with open('example.json', 'w') as f:\n",
    "  json.dump(data, f, indent=4)\n"
   ]
  },
  {
   "cell_type": "markdown",
   "metadata": {},
   "source": [
    "### OS\n",
    "\n",
    "- provides the facility to establish the interaction between the user and the operating system. \n",
    "- It offers many useful OS functions that are used to perform OS-based tasks and get related information about operating system"
   ]
  },
  {
   "cell_type": "code",
   "execution_count": 20,
   "metadata": {},
   "outputs": [
    {
     "name": "stdout",
     "output_type": "stream",
     "text": [
      "['.git', '.gitignore', '.ipynb_checkpoints', 'example', 'example.json', 'Lec-0.ipynb', 'Lec-1.ipynb', 'Lec-2.ipynb', 'Lec-3.ipynb', 'Lec-4.ipynb', 'Lec-5.ipynb', 'Lec-6.ipynb', 'Lec-7.ipynb', 'README.md']\n",
      "/media/hassan/New Volume/Learn/pyton/python-course\n"
     ]
    },
    {
     "data": {
      "text/plain": [
       "'/media/hassan/New Volume/Learn/pyton/python-course/example'"
      ]
     },
     "execution_count": 20,
     "metadata": {},
     "output_type": "execute_result"
    }
   ],
   "source": [
    "import os\n",
    "\n",
    "# path exists: check if path exists\n",
    "if not os.path.exists(\"example\"):\n",
    "    # mkdir make diractory\n",
    "    os.mkdir(\"example\")\n",
    "# listdir: list \n",
    "print(os.listdir())\n",
    "# getcwd: get current working diractory\n",
    "print(os.getcwd())\n",
    "# path join: join tow or more paths\n",
    "print(os.path.join(os.getcwd(), \"example\"))\n"
   ]
  },
  {
   "cell_type": "markdown",
   "metadata": {},
   "source": [
    "### sys"
   ]
  },
  {
   "cell_type": "code",
   "execution_count": 21,
   "metadata": {},
   "outputs": [
    {
     "name": "stdout",
     "output_type": "stream",
     "text": [
      "3.8.10 (default, Jun 22 2022, 20:18:18) \n",
      "[GCC 9.4.0]\n"
     ]
    }
   ],
   "source": [
    "import sys\n",
    "\n",
    "# version of python interpreter\n",
    "print(sys.version)\n"
   ]
  },
  {
   "cell_type": "code",
   "execution_count": null,
   "metadata": {},
   "outputs": [],
   "source": [
    "# command-line arguments\n",
    "if len(sys.argv) > 2:\n",
    "    print(sys.argv[1:])\n",
    "elif len(sys.argv) > 1:\n",
    "    print(sys.argv[1])\n",
    "else:\n",
    "    print(\"No command-line arguments passed\")\n"
   ]
  },
  {
   "cell_type": "code",
   "execution_count": 44,
   "metadata": {},
   "outputs": [
    {
     "name": "stdout",
     "output_type": "stream",
     "text": [
      "No command-line arguments passed\n",
      "command-line-arguments\n",
      "['command-line', 'arguments']\n"
     ]
    }
   ],
   "source": [
    "! python main.py\n",
    "\n",
    "! python main.py command-line-arguments\n",
    "\n",
    "! python main.py command-line arguments"
   ]
  },
  {
   "cell_type": "markdown",
   "metadata": {},
   "source": [
    "### datetime"
   ]
  },
  {
   "cell_type": "code",
   "execution_count": 42,
   "metadata": {},
   "outputs": [
    {
     "name": "stdout",
     "output_type": "stream",
     "text": [
      "22-09-2022\n",
      "11:20\n",
      "22-09-2022 11:33\n"
     ]
    }
   ],
   "source": [
    "# datetime\n",
    "from datetime import datetime, date, time\n",
    "\n",
    "# today's date in format dd-mm-yyyy (day-month-year)\n",
    "print(date.today().strftime(\"%d-%m-%Y\"))\n",
    "# time in format hh-mm (hour-minutes)\n",
    "print(time(11, 20, 14).strftime(\"%H:%M\"))\n",
    "# today's date & time in format dd-mm-yyyy hh-mm (day-month-year hour-minutes)\n",
    "print(datetime.now().strftime(\"%d-%m-%Y %H:%M\"))\n"
   ]
  }
 ],
 "metadata": {
  "kernelspec": {
   "display_name": "Python 3.8.10 64-bit",
   "language": "python",
   "name": "python3"
  },
  "language_info": {
   "codemirror_mode": {
    "name": "ipython",
    "version": 3
   },
   "file_extension": ".py",
   "mimetype": "text/x-python",
   "name": "python",
   "nbconvert_exporter": "python",
   "pygments_lexer": "ipython3",
   "version": "3.8.10"
  },
  "orig_nbformat": 4,
  "vscode": {
   "interpreter": {
    "hash": "916dbcbb3f70747c44a77c7bcd40155683ae19c65e1c03b4aa3499c5328201f1"
   }
  }
 },
 "nbformat": 4,
 "nbformat_minor": 2
}
