{
 "cells": [
  {
   "attachments": {},
   "cell_type": "markdown",
   "metadata": {},
   "source": [
    "# Python Standard Modules/Packages"
   ]
  },
  {
   "attachments": {},
   "cell_type": "markdown",
   "metadata": {},
   "source": [
    "### import"
   ]
  },
  {
   "attachments": {},
   "cell_type": "markdown",
   "metadata": {},
   "source": [
    "The import keyword is used to import modules or packages into the current script\n",
    "<br> <br>\n",
    "When a module or package is imported, its definitions and statements are made available to the current script, allowing you to use them by referencing the module or package name."
   ]
  },
  {
   "attachments": {},
   "cell_type": "markdown",
   "metadata": {},
   "source": [
    "#### For example, the math module provides mathematical functions such as sqrt(). \n",
    "To use these functions\n"
   ]
  },
  {
   "cell_type": "code",
   "execution_count": null,
   "metadata": {},
   "outputs": [],
   "source": [
    "# first import the math module with the following statement\n",
    "import math\n",
    "# use the functions from the math module by referencing it\n",
    "print(math.sqrt(16))\n"
   ]
  },
  {
   "attachments": {},
   "cell_type": "markdown",
   "metadata": {},
   "source": [
    "#### the from keyword to import specific definitions or statements from a module or package"
   ]
  },
  {
   "cell_type": "code",
   "execution_count": null,
   "metadata": {},
   "outputs": [],
   "source": [
    "# imports only the sqrt() function from math\n",
    "from math import sqrt\n",
    "# use the functions from the math module by referencing it\n",
    "print(sqrt(16))\n"
   ]
  },
  {
   "attachments": {},
   "cell_type": "markdown",
   "metadata": {},
   "source": [
    "#### the as keyword to give a module or package a different name when importing it"
   ]
  },
  {
   "cell_type": "code",
   "execution_count": null,
   "metadata": {},
   "outputs": [],
   "source": [
    "# imports math module and gives it the name m\n",
    "import math as m\n",
    "# use the functions from the math module by referencing it with the new name m\n",
    "print(m.sqrt(16))\n"
   ]
  },
  {
   "attachments": {},
   "cell_type": "markdown",
   "metadata": {},
   "source": [
    "### json"
   ]
  },
  {
   "cell_type": "markdown",
   "metadata": {},
   "source": [
    "- JSON (JavaScript Object Notation)\n",
    "- syntax for storing and exchanging data like dictionary {key: value}\n",
    "- inspired by JavaScript object"
   ]
  },
  {
   "attachments": {},
   "cell_type": "markdown",
   "metadata": {},
   "source": [
    "<p>\n",
    "json package allows you to encode and decode JSON data, \n",
    "</p><p>\n",
    "which means you can convert a Python object (such as a dictionary or list) into a JSON string and vice versa.\n",
    "</p>"
   ]
  },
  {
   "cell_type": "code",
   "execution_count": 15,
   "metadata": {},
   "outputs": [
    {
     "name": "stdout",
     "output_type": "stream",
     "text": [
      "{'name': 'John', 'age': 30, 'city': 'New York'}\n",
      "<class 'dict'>\n",
      "<class 'str'>\n",
      "{\n",
      "    \"name\": \"John\",\n",
      "    \"age\": 30,\n",
      "    \"city\": \"New York\"\n",
      "}\n"
     ]
    }
   ],
   "source": [
    "import json\n",
    "\n",
    "# JSON example\n",
    "x =  '{ \"name\": \"John\", \"age\": 30, \"city\": \"New York\"}'\n",
    "\n",
    "# parse the json into dictionary\n",
    "y = json.loads(x)\n",
    "\n",
    "# the result is a Python dictionary\n",
    "print(y)\n",
    "print(type(y))\n",
    "\n",
    "# convert back into JSON:\n",
    "# indent just to make it more readable\n",
    "y = json.dumps(y, indent=4)\n",
    "\n",
    "# the result is a JSON string:\n",
    "print(type(y))\n",
    "print(y)\n"
   ]
  },
  {
   "cell_type": "code",
   "execution_count": 17,
   "metadata": {},
   "outputs": [
    {
     "name": "stdout",
     "output_type": "stream",
     "text": [
      "{'A': 1, 'B': 2, 'list': [1, 2], 'str': 'Hello', 'json': {'a': 1, 'b': 2}, 'add': 'added'}\n",
      "<class 'dict'>\n"
     ]
    }
   ],
   "source": [
    "# load json from file 'example.json' \n",
    "with open('example.json') as f:\n",
    "  data = json.load(f)\n",
    "\n",
    "print(data)\n",
    "print(type(data))\n",
    "\n",
    "# add object to the dict\n",
    "data[\"add\"] = \"added\"\n",
    "\n",
    "# dump the new data into file 'example.json'\n",
    "with open('example.json', 'w') as f:\n",
    "  json.dump(data, f, indent=4)\n"
   ]
  },
  {
   "cell_type": "markdown",
   "metadata": {},
   "source": [
    "### OS\n",
    "\n",
    "- provides the facility to establish the interaction between the user and the operating system. \n",
    "- It offers many useful OS functions that are used to perform OS-based tasks and get related information about operating system"
   ]
  },
  {
   "cell_type": "code",
   "execution_count": 20,
   "metadata": {},
   "outputs": [
    {
     "name": "stdout",
     "output_type": "stream",
     "text": [
      "['.git', '.gitignore', '.ipynb_checkpoints', 'example', 'example.json', 'Lec-0.ipynb', 'Lec-1.ipynb', 'Lec-2.ipynb', 'Lec-3.ipynb', 'Lec-4.ipynb', 'Lec-5.ipynb', 'Lec-6.ipynb', 'Lec-7.ipynb', 'README.md']\n",
      "/media/hassan/New Volume/Learn/pyton/python-course\n"
     ]
    },
    {
     "data": {
      "text/plain": [
       "'/media/hassan/New Volume/Learn/pyton/python-course/example'"
      ]
     },
     "execution_count": 20,
     "metadata": {},
     "output_type": "execute_result"
    }
   ],
   "source": [
    "import os\n",
    "\n",
    "# path exists: check whether a specified file exists or not\n",
    "if not os.path.exists(\"example\"):\n",
    "    # mkdir make diractory\n",
    "    os.mkdir(\"example\")\n",
    "\n",
    "# listdir: get a list of all the files and directories in a specified directory path \n",
    "print(os.listdir())\n",
    "# getcwd: Get the Current Working Diractory\n",
    "print(os.getcwd())\n",
    "# path join: join tow or more paths \n",
    "# it is a more robust and reliable way to build file paths \n",
    "# so it's highly recommended to use instead of string concatenation\n",
    "print(os.path.join(os.getcwd(), \"example\"))\n"
   ]
  },
  {
   "cell_type": "markdown",
   "metadata": {},
   "source": [
    "### sys"
   ]
  },
  {
   "attachments": {},
   "cell_type": "markdown",
   "metadata": {},
   "source": [
    "- provides access to various variables and functions that are used or maintained by the Python interpreter\n",
    "- It provides a way to interact with the interpreter\n",
    "- allows access to information about the current environment and the interpreter\n"
   ]
  },
  {
   "cell_type": "code",
   "execution_count": 21,
   "metadata": {},
   "outputs": [
    {
     "name": "stdout",
     "output_type": "stream",
     "text": [
      "3.8.10 (default, Jun 22 2022, 20:18:18) \n",
      "[GCC 9.4.0]\n"
     ]
    }
   ],
   "source": [
    "import sys\n",
    "\n",
    "# get the version of python interpreter that is currently running\n",
    "print(sys.version)\n"
   ]
  },
  {
   "cell_type": "code",
   "execution_count": null,
   "metadata": {},
   "outputs": [],
   "source": [
    "# a list that contains the command-line arguments passed to the script\n",
    "# The first element is the name of the script itself\n",
    "print(f\"script name: {sys.argv[0]}\")\n",
    "\n",
    "if len(sys.argv) > 2:\n",
    "    print(sys.argv[1:])\n",
    "elif len(sys.argv) > 1:\n",
    "    print(sys.argv[1])\n",
    "else:\n",
    "    print(\"No command-line arguments passed\")\n"
   ]
  },
  {
   "cell_type": "code",
   "execution_count": 2,
   "metadata": {},
   "outputs": [
    {
     "name": "stdout",
     "output_type": "stream",
     "text": [
      "script name: main.py\n",
      "No command-line arguments passed\n",
      "script name: main.py\n",
      "command-line-arguments\n",
      "script name: main.py\n",
      "['command-line', 'arguments']\n"
     ]
    }
   ],
   "source": [
    "! python main.py\n",
    "\n",
    "! python main.py command-line-arguments\n",
    "\n",
    "! python main.py command-line arguments"
   ]
  },
  {
   "cell_type": "markdown",
   "metadata": {},
   "source": [
    "### datetime"
   ]
  },
  {
   "attachments": {},
   "cell_type": "markdown",
   "metadata": {},
   "source": [
    "- provides a way to represent date and time in a convenient and efficient way\n",
    "- allows to perform operations such as formatting dates and times, parsing strings, and calculating time differences\n"
   ]
  },
  {
   "cell_type": "code",
   "execution_count": 42,
   "metadata": {},
   "outputs": [
    {
     "name": "stdout",
     "output_type": "stream",
     "text": [
      "22-09-2022\n",
      "11:20\n",
      "22-09-2022 11:33\n"
     ]
    }
   ],
   "source": [
    "from datetime import datetime, date, time\n",
    "\n",
    "# today's date in format dd-mm-yyyy (day-month-year)\n",
    "print(date.today().strftime(\"%d-%m-%Y\"))\n",
    "# time in format hh-mm (hour-minutes)\n",
    "print(time(11, 20, 14).strftime(\"%H:%M\"))\n",
    "# today's date & time in format dd-mm-yyyy hh-mm (day-month-year hour-minutes)\n",
    "print(datetime.now().strftime(\"%d-%m-%Y %H:%M\"))\n"
   ]
  }
 ],
 "metadata": {
  "kernelspec": {
   "display_name": "venv",
   "language": "python",
   "name": "python3"
  },
  "language_info": {
   "codemirror_mode": {
    "name": "ipython",
    "version": 3
   },
   "file_extension": ".py",
   "mimetype": "text/x-python",
   "name": "python",
   "nbconvert_exporter": "python",
   "pygments_lexer": "ipython3",
   "version": "3.8.10"
  },
  "orig_nbformat": 4,
  "vscode": {
   "interpreter": {
    "hash": "e9daf23a73e4fa3585b18aabbf056e985e71943dd801d54be11fe89f6325fc1e"
   }
  }
 },
 "nbformat": 4,
 "nbformat_minor": 2
}
