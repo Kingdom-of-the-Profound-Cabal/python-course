{
 "cells": [
  {
   "attachments": {},
   "cell_type": "markdown",
   "metadata": {},
   "source": [
    "# Modules & Packages & Library"
   ]
  },
  {
   "attachments": {},
   "cell_type": "markdown",
   "metadata": {},
   "source": [
    "<p>\n",
    "Module is a single file containing Python definitions and statements that can be imported into other scripts,\n",
    "</p>\n",
    "<p>\n",
    "Package is a collection of modules in a single directory, \n",
    "</p>\n",
    "<p>\n",
    "Library is a collection of functions that provide specific functionality.\n",
    "</p>"
   ]
  },
  {
   "attachments": {},
   "cell_type": "markdown",
   "metadata": {},
   "source": [
    "<hr>"
   ]
  },
  {
   "attachments": {},
   "cell_type": "markdown",
   "metadata": {},
   "source": [
    "\n",
    "Here are some examples of built-in modules, packages, and libraries in Python:\n",
    "<p>\n",
    "    <b>Modules</b>:\n",
    "    <p> &nbsp &nbsp &nbsp &nbsp\n",
    "    math: Provides mathematical functions such as sqrt(), sin(), cos(), tan(), log(), etc.\n",
    "    </p><p> &nbsp &nbsp &nbsp &nbsp\n",
    "    os: Provides functions for interacting with the operating system such as listdir(), mkdir(), remove(), etc.\n",
    "    </p><p> &nbsp &nbsp &nbsp &nbsp\n",
    "    random: Provides functions for generating random numbers such as randint(), random(), shuffle(), etc.\n",
    "    </p>\n",
    "</p>\n",
    "<p>\n",
    "    <b>Packages</b>:\n",
    "    <p> &nbsp &nbsp &nbsp &nbsp\n",
    "    datetime: Provides classes for manipulating dates and times such as date, time, datetime, timedelta, etc.\n",
    "    </p> <p> &nbsp &nbsp &nbsp &nbsp\n",
    "    json: Provides functions for working with JSON data such as loads(), dumps(), JSONEncoder, JSONDecoder, etc.\n",
    "    </p> <p> &nbsp &nbsp &nbsp &nbsp\n",
    "    re: Provides functions for working with regular expressions such as match(), search(), findall(), compile(), etc.\n",
    "    </p>\n",
    "</p>\n",
    "<p>\n",
    "    <b>Libraries</b>:\n",
    "    <p> &nbsp &nbsp &nbsp &nbsp\n",
    "    numpy: Provides a powerful array object and a collection of mathematical functions to operate on arrays.\n",
    "    </p> <p> &nbsp &nbsp &nbsp &nbsp\n",
    "    pandas: Provides data structures and data analysis tools such as DataFrame, Series, read_csv(), to_csv(), etc.\n",
    "    </p> <p> &nbsp &nbsp &nbsp &nbsp\n",
    "    matplotlib: Provides functions for creating static, animated, and interactive visualizations.\n",
    "    </p>\n",
    "</p>"
   ]
  },
  {
   "cell_type": "code",
   "execution_count": 14,
   "metadata": {},
   "outputs": [
    {
     "name": "stdout",
     "output_type": "stream",
     "text": [
      "0 1 1 2 3 \n"
     ]
    }
   ],
   "source": [
    "import lec5\n",
    "\n",
    "lec5.fib(5)\n"
   ]
  }
 ],
 "metadata": {
  "kernelspec": {
   "display_name": "venv",
   "language": "python",
   "name": "python3"
  },
  "language_info": {
   "codemirror_mode": {
    "name": "ipython",
    "version": 3
   },
   "file_extension": ".py",
   "mimetype": "text/x-python",
   "name": "python",
   "nbconvert_exporter": "python",
   "pygments_lexer": "ipython3",
   "version": "3.8.10"
  },
  "orig_nbformat": 4,
  "vscode": {
   "interpreter": {
    "hash": "e9daf23a73e4fa3585b18aabbf056e985e71943dd801d54be11fe89f6325fc1e"
   }
  }
 },
 "nbformat": 4,
 "nbformat_minor": 2
}
