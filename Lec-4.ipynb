{
 "cells": [
  {
   "cell_type": "markdown",
   "metadata": {},
   "source": [
    "# Documenting"
   ]
  },
  {
   "cell_type": "markdown",
   "metadata": {},
   "source": [
    "“Code is more often read than written.”\n",
    "\n",
    "\n",
    "- Guido van Rossum"
   ]
  },
  {
   "cell_type": "markdown",
   "metadata": {},
   "source": [
    "## Commints"
   ]
  },
  {
   "cell_type": "code",
   "execution_count": null,
   "metadata": {},
   "outputs": [],
   "source": [
    "# single line comment\n",
    "\n",
    "\"\"\" multi \n",
    "    line \n",
    "    comment \n",
    "\"\"\"\n"
   ]
  },
  {
   "cell_type": "code",
   "execution_count": null,
   "metadata": {},
   "outputs": [],
   "source": [
    "def idk():\n",
    "    \"\"\"\n",
    "    this function is here jus for learning purpeses\n",
    "    it does not do anything\n",
    "    \"\"\"\n",
    "    pass\n",
    "\n",
    "class Idk:\n",
    "    \"\"\"\n",
    "    this class is here jus for learning purpeses\n",
    "    it does not do anything\n",
    "    \n",
    "    Attributes:\n",
    "        a: str \n",
    "        just learning\n",
    "    \"\"\"\n",
    "    def __init__(self, a):\n",
    "        \"\"\"Initialize the Albatross from the keyword arguments.\"\"\"\n",
    "        self.a = a\n"
   ]
  },
  {
   "attachments": {},
   "cell_type": "markdown",
   "metadata": {},
   "source": [
    "## type hints"
   ]
  },
  {
   "cell_type": "code",
   "execution_count": 2,
   "metadata": {},
   "outputs": [
    {
     "name": "stdout",
     "output_type": "stream",
     "text": [
      "ds is str and 12 is int\n"
     ]
    }
   ],
   "source": [
    "# arguments types\n",
    "def simple(a:str, b:int):\n",
    "    return f\"{a} is str and {b} is int\"\n",
    "\n",
    "# returned type\n",
    "def simple(a, b) -> str:\n",
    "    return f\"{a} is str and {b} is int\"\n"
   ]
  },
  {
   "cell_type": "code",
   "execution_count": null,
   "metadata": {},
   "outputs": [],
   "source": [
    "# Union : it is a user-defined data type\n",
    "from typing import Union\n",
    "\n",
    "Union[int, str]\n",
    "int | str\n",
    "\n",
    "def simple(a:str, b:int) -> str | None:\n",
    "    \"\"\" simple function to test the union type \"\"\"\n",
    "    if a:\n",
    "        return f\"{a} is str and {b} is int\"\n",
    "    return None\n",
    "\n",
    "def simple(a:str|int, b:int) -> str | int:\n",
    "    \"\"\" simple function to test the union type \"\"\"\n",
    "    if isinstance(a, int):\n",
    "        return a\n",
    "    return f\"{a} is str and {b} is int\"\n"
   ]
  }
 ],
 "metadata": {
  "kernelspec": {
   "display_name": "Python 3.10.4 ('py10')",
   "language": "python",
   "name": "python3"
  },
  "language_info": {
   "codemirror_mode": {
    "name": "ipython",
    "version": 3
   },
   "file_extension": ".py",
   "mimetype": "text/x-python",
   "name": "python",
   "nbconvert_exporter": "python",
   "pygments_lexer": "ipython3",
   "version": "3.10.4 (main, Mar 31 2022, 08:41:55) [GCC 7.5.0]"
  },
  "orig_nbformat": 4,
  "vscode": {
   "interpreter": {
    "hash": "ee62ebe73aa2f8cfab5b405c687092ba5bed89943b931a12a7cf0f89675aa823"
   }
  }
 },
 "nbformat": 4,
 "nbformat_minor": 2
}
