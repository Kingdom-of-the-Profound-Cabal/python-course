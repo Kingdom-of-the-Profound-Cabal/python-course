{
 "cells": [
  {
   "cell_type": "markdown",
   "metadata": {},
   "source": [
    "## Error Handling"
   ]
  },
  {
   "cell_type": "code",
   "execution_count": 4,
   "metadata": {},
   "outputs": [
    {
     "name": "stdout",
     "output_type": "stream",
     "text": [
      "(<class 'ZeroDivisionError'>, ZeroDivisionError('division by zero'), <traceback object at 0x7f2d8c0ced40>)\n",
      "division by zero\n"
     ]
    }
   ],
   "source": [
    "import sys\n",
    "\n",
    "# try : \n",
    "try:\n",
    "    # int(\"d\")\n",
    "    1/0\n",
    "# except : \n",
    "except Exception as e:\n",
    "    print(sys.exc_info())\n",
    "    print(e)\n"
   ]
  },
  {
   "cell_type": "code",
   "execution_count": null,
   "metadata": {},
   "outputs": [],
   "source": [
    "\n",
    "try:\n",
    "   # do something\n",
    "   pass\n",
    "\n",
    "except ValueError:\n",
    "   # handle ValueError exception\n",
    "   pass\n",
    "\n",
    "except (TypeError, ZeroDivisionError):\n",
    "   # handle multiple exceptions\n",
    "   # TypeError and ZeroDivisionError\n",
    "   pass\n",
    "\n",
    "except:\n",
    "   # handle all other exceptions\n",
    "   pass\n"
   ]
  },
  {
   "cell_type": "code",
   "execution_count": 11,
   "metadata": {},
   "outputs": [
    {
     "name": "stdout",
     "output_type": "stream",
     "text": [
      "1\n",
      "2\n",
      "-4\n"
     ]
    },
    {
     "ename": "ValueError",
     "evalue": "That is not a positive number!",
     "output_type": "error",
     "traceback": [
      "\u001b[0;31m---------------------------------------------------------------------------\u001b[0m",
      "\u001b[0;31mValueError\u001b[0m                                Traceback (most recent call last)",
      "\u001b[1;32m/media/hassan/New Volume/Learn/pytonlearn/python-course/Lec-5.ipynb Cell 4\u001b[0m in \u001b[0;36m<cell line: 2>\u001b[0;34m()\u001b[0m\n\u001b[1;32m      <a href='vscode-notebook-cell:/media/hassan/New%20Volume/Learn/pytonlearn/python-course/Lec-5.ipynb#W4sZmlsZQ%3D%3D?line=8'>9</a>\u001b[0m \u001b[39melse\u001b[39;00m:\n\u001b[1;32m     <a href='vscode-notebook-cell:/media/hassan/New%20Volume/Learn/pytonlearn/python-course/Lec-5.ipynb#W4sZmlsZQ%3D%3D?line=9'>10</a>\u001b[0m     \u001b[39mif\u001b[39;00m a \u001b[39m<\u001b[39m\u001b[39m=\u001b[39m \u001b[39m0\u001b[39m:\n\u001b[0;32m---> <a href='vscode-notebook-cell:/media/hassan/New%20Volume/Learn/pytonlearn/python-course/Lec-5.ipynb#W4sZmlsZQ%3D%3D?line=10'>11</a>\u001b[0m         \u001b[39mraise\u001b[39;00m \u001b[39mValueError\u001b[39;00m(\u001b[39m\"\u001b[39m\u001b[39mThat is not a positive number!\u001b[39m\u001b[39m\"\u001b[39m)\n",
      "\u001b[0;31mValueError\u001b[0m: That is not a positive number!"
     ]
    }
   ],
   "source": [
    "a = 2\n",
    "while a != \"stop\":\n",
    "    a = input(\"Enter a positive integer: \")\n",
    "    print(a)\n",
    "    try:\n",
    "        a = int(a)\n",
    "    except ValueError:\n",
    "        print(\"please enter a number\")\n",
    "    else:\n",
    "        if a <= 0:\n",
    "            raise ValueError(\"That is not a positive number!\")\n"
   ]
  },
  {
   "cell_type": "code",
   "execution_count": 10,
   "metadata": {},
   "outputs": [
    {
     "name": "stdout",
     "output_type": "stream",
     "text": [
      "1\n",
      "2\n",
      "-4\n"
     ]
    },
    {
     "ename": "ValueError",
     "evalue": "That is not a positive number!",
     "output_type": "error",
     "traceback": [
      "\u001b[0;31m---------------------------------------------------------------------------\u001b[0m",
      "\u001b[0;31mValueError\u001b[0m                                Traceback (most recent call last)",
      "\u001b[1;32m/media/hassan/New Volume/Learn/pytonlearn/python-course/Lec-5.ipynb Cell 4\u001b[0m in \u001b[0;36m<cell line: 2>\u001b[0;34m()\u001b[0m\n\u001b[1;32m      <a href='vscode-notebook-cell:/media/hassan/New%20Volume/Learn/pytonlearn/python-course/Lec-5.ipynb#W3sZmlsZQ%3D%3D?line=8'>9</a>\u001b[0m     \u001b[39mcontinue\u001b[39;00m\n\u001b[1;32m     <a href='vscode-notebook-cell:/media/hassan/New%20Volume/Learn/pytonlearn/python-course/Lec-5.ipynb#W3sZmlsZQ%3D%3D?line=9'>10</a>\u001b[0m \u001b[39mif\u001b[39;00m a \u001b[39m<\u001b[39m\u001b[39m=\u001b[39m \u001b[39m0\u001b[39m:\n\u001b[0;32m---> <a href='vscode-notebook-cell:/media/hassan/New%20Volume/Learn/pytonlearn/python-course/Lec-5.ipynb#W3sZmlsZQ%3D%3D?line=10'>11</a>\u001b[0m     \u001b[39mraise\u001b[39;00m \u001b[39mValueError\u001b[39;00m(\u001b[39m\"\u001b[39m\u001b[39mThat is not a positive number!\u001b[39m\u001b[39m\"\u001b[39m)\n",
      "\u001b[0;31mValueError\u001b[0m: That is not a positive number!"
     ]
    }
   ],
   "source": [
    "\n",
    "a = 2\n",
    "while a != \"stop\":\n",
    "    a = input(\"Enter a positive integer: \")\n",
    "    print(a)\n",
    "    try:\n",
    "        a = int(a)\n",
    "    except ValueError:\n",
    "        print(\"please enter a number\")\n",
    "        continue\n",
    "    if a <= 0:\n",
    "        raise ValueError(\"That is not a positive number!\")\n"
   ]
  },
  {
   "cell_type": "markdown",
   "metadata": {},
   "source": [
    "## custom exception"
   ]
  },
  {
   "cell_type": "code",
   "execution_count": 12,
   "metadata": {},
   "outputs": [
    {
     "ename": "Error",
     "evalue": "404: User Not Found",
     "output_type": "error",
     "traceback": [
      "\u001b[0;31m---------------------------------------------------------------------------\u001b[0m",
      "\u001b[0;31mError\u001b[0m                                     Traceback (most recent call last)",
      "\u001b[1;32m/media/hassan/New Volume/Learn/pytonlearn/python-course/Lec-5.ipynb Cell 7\u001b[0m in \u001b[0;36m<cell line: 23>\u001b[0;34m()\u001b[0m\n\u001b[1;32m     <a href='vscode-notebook-cell:/media/hassan/New%20Volume/Learn/pytonlearn/python-course/Lec-5.ipynb#W6sZmlsZQ%3D%3D?line=21'>22</a>\u001b[0m user \u001b[39m=\u001b[39m \u001b[39mNone\u001b[39;00m\n\u001b[1;32m     <a href='vscode-notebook-cell:/media/hassan/New%20Volume/Learn/pytonlearn/python-course/Lec-5.ipynb#W6sZmlsZQ%3D%3D?line=22'>23</a>\u001b[0m \u001b[39mif\u001b[39;00m \u001b[39mnot\u001b[39;00m user:\n\u001b[0;32m---> <a href='vscode-notebook-cell:/media/hassan/New%20Volume/Learn/pytonlearn/python-course/Lec-5.ipynb#W6sZmlsZQ%3D%3D?line=23'>24</a>\u001b[0m     \u001b[39mraise\u001b[39;00m Error(\u001b[39m404\u001b[39m, \u001b[39m\"\u001b[39m\u001b[39mUser Not Found\u001b[39m\u001b[39m\"\u001b[39m)\n",
      "\u001b[0;31mError\u001b[0m: 404: User Not Found"
     ]
    }
   ],
   "source": [
    "\n",
    "class ValueTooSmallError(Exception):\n",
    "    \"\"\"Raised when the input value is too small\"\"\"\n",
    "    pass\n",
    "\n",
    "\n",
    "class ValueTooLargeError(Exception):\n",
    "    \"\"\"Raised when the input value is too large\"\"\"\n",
    "    pass\n",
    "\n",
    "from dataclasses import dataclass\n",
    "@dataclass\n",
    "class Error(Exception):\n",
    "    status: int\n",
    "    message: str\n",
    "\n",
    "    def __str__(self) -> str:\n",
    "        return f\"{self.status}: {self.message}\"\n",
    "\n",
    "\n",
    "user = None\n",
    "if not user:\n",
    "    raise Error(404, \"User Not Found\")\n"
   ]
  }
 ],
 "metadata": {
  "kernelspec": {
   "display_name": "venv",
   "language": "python",
   "name": "python3"
  },
  "language_info": {
   "codemirror_mode": {
    "name": "ipython",
    "version": 3
   },
   "file_extension": ".py",
   "mimetype": "text/x-python",
   "name": "python",
   "nbconvert_exporter": "python",
   "pygments_lexer": "ipython3",
   "version": "3.8.10 (default, Nov 14 2022, 12:59:47) \n[GCC 9.4.0]"
  },
  "orig_nbformat": 4,
  "vscode": {
   "interpreter": {
    "hash": "e9daf23a73e4fa3585b18aabbf056e985e71943dd801d54be11fe89f6325fc1e"
   }
  }
 },
 "nbformat": 4,
 "nbformat_minor": 2
}
