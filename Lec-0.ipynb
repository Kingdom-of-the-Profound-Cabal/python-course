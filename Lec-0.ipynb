{
 "cells": [
  {
   "cell_type": "markdown",
   "metadata": {},
   "source": [
    "# What is Python?\n",
    "\n",
    "Python is a popular programming language,. It was created by Guido van Rossum, and released in 1991,. \n",
    "\n",
    "Its design philosophy emphasizes code readability.\n",
    "- High-level \n",
    "- Interpreted \n",
    "- General-purpose\n",
    "- Dynamically typed\n",
    "- object-oriented and functional\n",
    "- garbage-collected "
   ]
  },
  {
   "attachments": {},
   "cell_type": "markdown",
   "metadata": {},
   "source": [
    "It is known for its simplicity, readability, and versatility, making it a great choice for both beginners and experienced programmers."
   ]
  },
  {
   "cell_type": "markdown",
   "metadata": {},
   "source": [
    "Python Package Index (**PyPi**), the official repository for third-party Python software, \n",
    "\n",
    "contains over **380,000** packages with a wide range of functionality\n",
    "# Used For:\n",
    "\n",
    "- Graphical user interfaces (Tkinter, PyQt5, Kivy)\n",
    "- Web Development (Django, Flask)\n",
    "- Automation (Requests, CSV, JSON)\n",
    "- Data Science (NumPy, Pandas, SciPy)\n",
    "- Machine learning (PyTorch, TensorFlow)\n",
    "- Image processing (OpenCV, Pillow)\n",
    "- Databases (SQLite, psycopg2, MySQL)\n",
    "- Computer networking (socket)\n",
    "- System administration (fabric)\n",
    "- Test frameworks (PyTest, Robot)\n",
    "- Text processing (NLTK)\n",
    "- Web scraping (Scrapy)\n",
    "- ...."
   ]
  },
  {
   "cell_type": "markdown",
   "metadata": {},
   "source": [
    "# Why Python?\n",
    "\n",
    "    - Python has a simple syntax similar to the English language.\n",
    "    - Python works on different platforms (Windows, Mac, Linux, Raspberry Pi, etc).\n",
    "    - Python can be treated in a procedural way, an object-oriented way or a functional way.\n",
    "    - Python has syntax that allows developers to write programs with fewer lines than some other programming languages.\n",
    "    - Python interpreted language, meaning that code can be executed as soon as it is written. means that prototyping can be very quick.\n",
    "\n",
    "Large organizations uses Python include **Wikipedia**, **Google**, **Yahoo!**, **NASA**, **Facebook**, **Amazon**, **Instagram**, **Spotify**, The social news networking site **Reddit** was written mostly in Python"
   ]
  },
  {
   "cell_type": "markdown",
   "metadata": {},
   "source": [
    "for more information : https://en.wikipedia.org/wiki/Python_(programming_language)"
   ]
  },
  {
   "cell_type": "markdown",
   "metadata": {},
   "source": [
    "# IDE"
   ]
  },
  {
   "attachments": {},
   "cell_type": "markdown",
   "metadata": {},
   "source": [
    "An Integrated Development Environment (IDE) is a software application that provides a comprehensive set of tools for software development. An IDE typically includes a code editor, a compiler or interpreter, a debugger, and a user interface for managing files and other development tasks. IDEs are designed to make the software development process more efficient by providing an integrated environment for all the tasks involved in software development, such as writing, testing, and debugging code."
   ]
  },
  {
   "cell_type": "markdown",
   "metadata": {},
   "source": [
    "- Python IDLE\n",
    "- Pycharm\n",
    "- **VS Code**\n",
    "- Anaconda (Spyder, Jupeter)\n",
    "- **Colab**\n"
   ]
  }
 ],
 "metadata": {
  "kernelspec": {
   "display_name": "venv",
   "language": "python",
   "name": "python3"
  },
  "language_info": {
   "name": "python",
   "version": "3.8.10 (default, Nov 14 2022, 12:59:47) \n[GCC 9.4.0]"
  },
  "orig_nbformat": 4,
  "vscode": {
   "interpreter": {
    "hash": "e9daf23a73e4fa3585b18aabbf056e985e71943dd801d54be11fe89f6325fc1e"
   }
  }
 },
 "nbformat": 4,
 "nbformat_minor": 2
}
